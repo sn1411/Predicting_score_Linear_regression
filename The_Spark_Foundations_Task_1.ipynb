{
  "nbformat": 4,
  "nbformat_minor": 0,
  "metadata": {
    "colab": {
      "name": "The Spark Foundations Task-1.ipynb",
      "provenance": [],
      "collapsed_sections": [],
      "authorship_tag": "ABX9TyO54gvr+Bw3Y+3ULVSKU1re",
      "include_colab_link": true
    },
    "kernelspec": {
      "name": "python3",
      "display_name": "Python 3"
    },
    "language_info": {
      "name": "python"
    }
  },
  "cells": [
    {
      "cell_type": "markdown",
      "metadata": {
        "id": "view-in-github",
        "colab_type": "text"
      },
      "source": [
        "<a href=\"https://colab.research.google.com/github/sn1411/TSF-Task-1/blob/main/The_Spark_Foundations_Task_1.ipynb\" target=\"_parent\"><img src=\"https://colab.research.google.com/assets/colab-badge.svg\" alt=\"Open In Colab\"/></a>"
      ]
    },
    {
      "cell_type": "markdown",
      "metadata": {
        "id": "uCafbZZi0Kxw"
      },
      "source": [
        "### **TSF GRIP MAY-2021**"
      ]
    },
    {
      "cell_type": "markdown",
      "metadata": {
        "id": "_Jegy5xv0moy"
      },
      "source": [
        "### **Task-1 Prediction using supervised ML**\n",
        "## Predict the percentage of a student based on the no. of study hours. "
      ]
    },
    {
      "cell_type": "markdown",
      "metadata": {
        "id": "Ex6Fn3Fj2gV_"
      },
      "source": [
        "### **Author - SHILPA NAYAK**"
      ]
    },
    {
      "cell_type": "code",
      "metadata": {
        "id": "F3aMeVrB2oPa"
      },
      "source": [
        "#importing libraries\n",
        "import pandas as pd\n",
        "import numpy as np\n",
        "import matplotlib.pyplot as plt\n",
        "import seaborn as sns"
      ],
      "execution_count": null,
      "outputs": []
    },
    {
      "cell_type": "code",
      "metadata": {
        "colab": {
          "base_uri": "https://localhost:8080/",
          "height": 343
        },
        "id": "SB7ZzC-L3qzp",
        "outputId": "162bd44a-6838-430d-c2bd-cd10bd0296c3"
      },
      "source": [
        "#reading data\n",
        "data = pd.read_csv(\"http://bit.ly/w-data\")\n",
        "data.head(10)"
      ],
      "execution_count": null,
      "outputs": [
        {
          "output_type": "execute_result",
          "data": {
            "text/html": [
              "<div>\n",
              "<style scoped>\n",
              "    .dataframe tbody tr th:only-of-type {\n",
              "        vertical-align: middle;\n",
              "    }\n",
              "\n",
              "    .dataframe tbody tr th {\n",
              "        vertical-align: top;\n",
              "    }\n",
              "\n",
              "    .dataframe thead th {\n",
              "        text-align: right;\n",
              "    }\n",
              "</style>\n",
              "<table border=\"1\" class=\"dataframe\">\n",
              "  <thead>\n",
              "    <tr style=\"text-align: right;\">\n",
              "      <th></th>\n",
              "      <th>Hours</th>\n",
              "      <th>Scores</th>\n",
              "    </tr>\n",
              "  </thead>\n",
              "  <tbody>\n",
              "    <tr>\n",
              "      <th>0</th>\n",
              "      <td>2.5</td>\n",
              "      <td>21</td>\n",
              "    </tr>\n",
              "    <tr>\n",
              "      <th>1</th>\n",
              "      <td>5.1</td>\n",
              "      <td>47</td>\n",
              "    </tr>\n",
              "    <tr>\n",
              "      <th>2</th>\n",
              "      <td>3.2</td>\n",
              "      <td>27</td>\n",
              "    </tr>\n",
              "    <tr>\n",
              "      <th>3</th>\n",
              "      <td>8.5</td>\n",
              "      <td>75</td>\n",
              "    </tr>\n",
              "    <tr>\n",
              "      <th>4</th>\n",
              "      <td>3.5</td>\n",
              "      <td>30</td>\n",
              "    </tr>\n",
              "    <tr>\n",
              "      <th>5</th>\n",
              "      <td>1.5</td>\n",
              "      <td>20</td>\n",
              "    </tr>\n",
              "    <tr>\n",
              "      <th>6</th>\n",
              "      <td>9.2</td>\n",
              "      <td>88</td>\n",
              "    </tr>\n",
              "    <tr>\n",
              "      <th>7</th>\n",
              "      <td>5.5</td>\n",
              "      <td>60</td>\n",
              "    </tr>\n",
              "    <tr>\n",
              "      <th>8</th>\n",
              "      <td>8.3</td>\n",
              "      <td>81</td>\n",
              "    </tr>\n",
              "    <tr>\n",
              "      <th>9</th>\n",
              "      <td>2.7</td>\n",
              "      <td>25</td>\n",
              "    </tr>\n",
              "  </tbody>\n",
              "</table>\n",
              "</div>"
            ],
            "text/plain": [
              "   Hours  Scores\n",
              "0    2.5      21\n",
              "1    5.1      47\n",
              "2    3.2      27\n",
              "3    8.5      75\n",
              "4    3.5      30\n",
              "5    1.5      20\n",
              "6    9.2      88\n",
              "7    5.5      60\n",
              "8    8.3      81\n",
              "9    2.7      25"
            ]
          },
          "metadata": {
            "tags": []
          },
          "execution_count": 60
        }
      ]
    },
    {
      "cell_type": "markdown",
      "metadata": {
        "id": "cKHd2V3X7T_5"
      },
      "source": [
        "**Five point summary of the data**"
      ]
    },
    {
      "cell_type": "code",
      "metadata": {
        "colab": {
          "base_uri": "https://localhost:8080/",
          "height": 106
        },
        "id": "Kx4bTvlY5I5a",
        "outputId": "f3f038f4-3bb4-4b1d-c670-0a7b3610c5c3"
      },
      "source": [
        "#describing the data\n",
        "data.describe().T"
      ],
      "execution_count": null,
      "outputs": [
        {
          "output_type": "execute_result",
          "data": {
            "text/html": [
              "<div>\n",
              "<style scoped>\n",
              "    .dataframe tbody tr th:only-of-type {\n",
              "        vertical-align: middle;\n",
              "    }\n",
              "\n",
              "    .dataframe tbody tr th {\n",
              "        vertical-align: top;\n",
              "    }\n",
              "\n",
              "    .dataframe thead th {\n",
              "        text-align: right;\n",
              "    }\n",
              "</style>\n",
              "<table border=\"1\" class=\"dataframe\">\n",
              "  <thead>\n",
              "    <tr style=\"text-align: right;\">\n",
              "      <th></th>\n",
              "      <th>count</th>\n",
              "      <th>mean</th>\n",
              "      <th>std</th>\n",
              "      <th>min</th>\n",
              "      <th>25%</th>\n",
              "      <th>50%</th>\n",
              "      <th>75%</th>\n",
              "      <th>max</th>\n",
              "    </tr>\n",
              "  </thead>\n",
              "  <tbody>\n",
              "    <tr>\n",
              "      <th>Hours</th>\n",
              "      <td>25.0</td>\n",
              "      <td>5.012</td>\n",
              "      <td>2.525094</td>\n",
              "      <td>1.1</td>\n",
              "      <td>2.7</td>\n",
              "      <td>4.8</td>\n",
              "      <td>7.4</td>\n",
              "      <td>9.2</td>\n",
              "    </tr>\n",
              "    <tr>\n",
              "      <th>Scores</th>\n",
              "      <td>25.0</td>\n",
              "      <td>51.480</td>\n",
              "      <td>25.286887</td>\n",
              "      <td>17.0</td>\n",
              "      <td>30.0</td>\n",
              "      <td>47.0</td>\n",
              "      <td>75.0</td>\n",
              "      <td>95.0</td>\n",
              "    </tr>\n",
              "  </tbody>\n",
              "</table>\n",
              "</div>"
            ],
            "text/plain": [
              "        count    mean        std   min   25%   50%   75%   max\n",
              "Hours    25.0   5.012   2.525094   1.1   2.7   4.8   7.4   9.2\n",
              "Scores   25.0  51.480  25.286887  17.0  30.0  47.0  75.0  95.0"
            ]
          },
          "metadata": {
            "tags": []
          },
          "execution_count": 36
        }
      ]
    },
    {
      "cell_type": "markdown",
      "metadata": {
        "id": "4UqD25Ov7uQR"
      },
      "source": [
        "**Plotting our data**"
      ]
    },
    {
      "cell_type": "code",
      "metadata": {
        "colab": {
          "base_uri": "https://localhost:8080/",
          "height": 295
        },
        "id": "yTP9PhkS6G57",
        "outputId": "583914d5-1afd-4746-d913-db080db102ab"
      },
      "source": [
        "sns.set_style('darkgrid')\n",
        "sns.scatterplot(x = data['Hours'],y = data['Scores'])\n",
        "plt.title('Hours studied v/s marks scored')\n",
        "plt.xlabel('Hours studied')\n",
        "plt.ylabel('Marks scored')\n",
        "plt.show()"
      ],
      "execution_count": null,
      "outputs": [
        {
          "output_type": "display_data",
          "data": {
            "image/png": "[encoded data removed]",
            "text/plain": [
              "<Figure size 432x288 with 1 Axes>"
            ]
          },
          "metadata": {
            "tags": []
          }
        }
      ]
    },
    {
      "cell_type": "markdown",
      "metadata": {
        "id": "PySCMV5vc_cN"
      },
      "source": [
        "**Preparing data for training, testing and spliting**"
      ]
    },
    {
      "cell_type": "code",
      "metadata": {
        "id": "FcGKo1YxdGcq"
      },
      "source": [
        "#The training set should be a random selection of 80% of the original data.\n",
        "#The testing set should be the remaining 20%.\n",
        "X = (data['Hours'].values).reshape(-1,1)\n",
        "Y = (data['Scores'].values)"
      ],
      "execution_count": null,
      "outputs": []
    },
    {
      "cell_type": "code",
      "metadata": {
        "id": "nh1JiPgbdTsT"
      },
      "source": [
        "from sklearn.model_selection import train_test_split  \n",
        "X_train, X_test, Y_train, Y_test = train_test_split(X, Y,test_size=0.25,random_state=0)               #splitting the data"
      ],
      "execution_count": null,
      "outputs": []
    },
    {
      "cell_type": "code",
      "metadata": {
        "colab": {
          "base_uri": "https://localhost:8080/"
        },
        "id": "rXROwHEeeRFq",
        "outputId": "893d21c2-e55d-4994-e26b-a50277fd7b15"
      },
      "source": [
        "from sklearn.linear_model import LinearRegression  \n",
        "reg = LinearRegression()  \n",
        "reg.fit(X_train, Y_train)                                                                              #training the data"
      ],
      "execution_count": null,
      "outputs": [
        {
          "output_type": "execute_result",
          "data": {
            "text/plain": [
              "LinearRegression(copy_X=True, fit_intercept=True, n_jobs=None, normalize=False)"
            ]
          },
          "metadata": {
            "tags": []
          },
          "execution_count": 40
        }
      ]
    },
    {
      "cell_type": "code",
      "metadata": {
        "colab": {
          "base_uri": "https://localhost:8080/",
          "height": 295
        },
        "id": "D5BS1YT6e8H2",
        "outputId": "0b1e364e-1817-466b-83ee-cbf03ac00799"
      },
      "source": [
        "#ploting regression line\n",
        "#line = slope * x + intercept\n",
        "line = reg.coef_ * X + reg.intercept_\n",
        "\n",
        "sns.set_style('darkgrid')\n",
        "plt.title('Regression line')\n",
        "plt.xlabel('Hours studied')\n",
        "plt.ylabel('Marks scored')\n",
        "plt.scatter(X, Y)\n",
        "plt.plot(X, line, color = 'hotpink');\n",
        "plt.show()"
      ],
      "execution_count": null,
      "outputs": [
        {
          "output_type": "display_data",
          "data": {
            "image/png": "[encoded data removed]",
            "text/plain": [
              "<Figure size 432x288 with 1 Axes>"
            ]
          },
          "metadata": {
            "tags": []
          }
        }
      ]
    },
    {
      "cell_type": "markdown",
      "metadata": {
        "id": "i3XNTlqpkL2d"
      },
      "source": [
        "**Making predictions**"
      ]
    },
    {
      "cell_type": "code",
      "metadata": {
        "id": "ELL5OR21h15n"
      },
      "source": [
        "#Predicting the test data\n",
        "pred=reg.predict(X_test)"
      ],
      "execution_count": null,
      "outputs": []
    },
    {
      "cell_type": "code",
      "metadata": {
        "colab": {
          "base_uri": "https://localhost:8080/"
        },
        "id": "DzikA96ZkvJh",
        "outputId": "8c6517e5-6778-4cba-d915-25b3e108997e"
      },
      "source": [
        "#How well does my training data fit in a regression?\n",
        "from sklearn.metrics import r2_score\n",
        "r2_score(Y_test,pred)                                                                       #r2, also known as r-squared"
      ],
      "execution_count": null,
      "outputs": [
        {
          "output_type": "execute_result",
          "data": {
            "text/plain": [
              "0.9367661043365056"
            ]
          },
          "metadata": {
            "tags": []
          },
          "execution_count": 43
        }
      ]
    },
    {
      "cell_type": "code",
      "metadata": {
        "id": "AdjhUSszmLnk"
      },
      "source": [
        "#The result 0.93676 shows that the model fits the testing set well, and we can use the model to predict future values."
      ],
      "execution_count": null,
      "outputs": []
    },
    {
      "cell_type": "markdown",
      "metadata": {
        "id": "NVDhrF53mz7U"
      },
      "source": [
        "**Comparison between actual and predicted data**"
      ]
    },
    {
      "cell_type": "code",
      "metadata": {
        "colab": {
          "base_uri": "https://localhost:8080/"
        },
        "id": "v9ka6-3_mrqT",
        "outputId": "4149a24e-46fb-439a-d20e-961fec835cec"
      },
      "source": [
        "Y_pred = reg.predict(X_test)\n",
        "df1 = pd.DataFrame({'Actual score': Y_test, 'Predicted score': Y_pred})\n",
        "print(df1)"
      ],
      "execution_count": null,
      "outputs": [
        {
          "output_type": "stream",
          "text": [
            "   Actual score  Predicted score\n",
            "0            20        16.844722\n",
            "1            27        33.745575\n",
            "2            69        75.500624\n",
            "3            30        26.786400\n",
            "4            62        60.588106\n",
            "5            35        39.710582\n",
            "6            24        20.821393\n"
          ],
          "name": "stdout"
        }
      ]
    },
    {
      "cell_type": "markdown",
      "metadata": {
        "id": "jTa4NBSAqYS1"
      },
      "source": [
        "**Problem statement- What will be predicted score if a student studies for 9.25 hrs/ day?**"
      ]
    },
    {
      "cell_type": "code",
      "metadata": {
        "colab": {
          "base_uri": "https://localhost:8080/"
        },
        "id": "ocUzuIpOpuT_",
        "outputId": "2f0b1488-81c7-4781-e207-1e42be2dd41e"
      },
      "source": [
        "hour=9.25\n",
        "score=reg.predict([[hour]])\n",
        "print(\"Hours studied:\",hour)\n",
        "print(\"Marks scored:\",score[0])"
      ],
      "execution_count": null,
      "outputs": [
        {
          "output_type": "stream",
          "text": [
            "Hours studied: 9.25\n",
            "Marks scored: 93.89272889341652\n"
          ],
          "name": "stdout"
        }
      ]
    },
    {
      "cell_type": "markdown",
      "metadata": {
        "id": "jsj5e8umsyfi"
      },
      "source": [
        "**Evaluating accuracy of model**"
      ]
    },
    {
      "cell_type": "code",
      "metadata": {
        "colab": {
          "base_uri": "https://localhost:8080/"
        },
        "id": "vUrr3lpVtFQd",
        "outputId": "66c70c5a-3e3c-43c9-b512-7954704bc011"
      },
      "source": [
        "#using mean absolute error\n",
        "from sklearn import metrics\n",
        "print(\"Mean Absolute Error: \",metrics.mean_absolute_error(Y_test, Y_pred))"
      ],
      "execution_count": null,
      "outputs": [
        {
          "output_type": "stream",
          "text": [
            "Mean Absolute Error:  4.130879918502482\n"
          ],
          "name": "stdout"
        }
      ]
    }
  ]
}